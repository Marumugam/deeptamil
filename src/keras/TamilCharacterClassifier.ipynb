{
 "cells": [
  {
   "cell_type": "code",
   "execution_count": 1,
   "metadata": {
    "collapsed": false
   },
   "outputs": [
    {
     "name": "stdout",
     "output_type": "stream",
     "text": [
      "Using Theano backend.\n"
     ]
    },
    {
     "name": "stderr",
     "output_type": "stream",
     "text": [
      "Using gpu device 0: GeForce GTX 960 (CNMeM is enabled)\n"
     ]
    }
   ],
   "source": [
    "import numpy as np\n",
    "\n",
    "from keras.models import Sequential\n",
    "from keras.layers.core import Dense, Dropout, Activation, Flatten\n",
    "from keras.layers.convolutional import Convolution2D, MaxPooling2D\n",
    "from keras.utils import np_utils\n",
    "from mnist import load_data"
   ]
  },
  {
   "cell_type": "code",
   "execution_count": 2,
   "metadata": {
    "collapsed": false
   },
   "outputs": [],
   "source": [
    "batch_size = 128\n",
    "nb_classes = 156\n",
    "nb_epoch = 12"
   ]
  },
  {
   "cell_type": "code",
   "execution_count": 3,
   "metadata": {
    "collapsed": false
   },
   "outputs": [],
   "source": [
    "# input image dimensions\n",
    "img_rows, img_cols = 30,30\n",
    "# number of convolutional filters to use\n",
    "nb_filters = 32\n",
    "# size of pooling area for max pooling\n",
    "nb_pool = 2\n",
    "# convolution kernel size\n",
    "nb_conv = 3"
   ]
  },
  {
   "cell_type": "code",
   "execution_count": 4,
   "metadata": {
    "collapsed": false
   },
   "outputs": [
    {
     "name": "stdout",
     "output_type": "stream",
     "text": [
      "... loading data\n"
     ]
    }
   ],
   "source": [
    "datasets = load_data('TamilCh.pkl.gz')\n",
    "train_set_x, train_set_y = datasets[0]\n",
    "#valid_set_x, valid_set_y = datasets[1]\n",
    "test_set_x, test_set_y = datasets[1]"
   ]
  },
  {
   "cell_type": "code",
   "execution_count": null,
   "metadata": {
    "collapsed": false
   },
   "outputs": [],
   "source": [
    "print test_set_x.shape\n",
    "print test_set_y.shape"
   ]
  },
  {
   "cell_type": "code",
   "execution_count": 5,
   "metadata": {
    "collapsed": false
   },
   "outputs": [],
   "source": [
    "imrows = 30; imcols=30\n",
    "layer_filters = 32\n",
    "pooling_size = 2\n",
    "recep_field = 3"
   ]
  },
  {
   "cell_type": "code",
   "execution_count": 6,
   "metadata": {
    "collapsed": false
   },
   "outputs": [],
   "source": [
    "# reshape images\n",
    "train_set_x = train_set_x.reshape(train_set_x.shape[0],1,imrows,imcols)\n",
    "test_set_x = test_set_x.reshape(test_set_x.shape[0],1,imrows,imcols)"
   ]
  },
  {
   "cell_type": "code",
   "execution_count": 7,
   "metadata": {
    "collapsed": false
   },
   "outputs": [],
   "source": [
    "# convert class vectors to binary class matrices\n",
    "Y_train = np_utils.to_categorical(train_set_y, nb_classes)\n",
    "Y_test = np_utils.to_categorical(test_set_y, nb_classes)"
   ]
  },
  {
   "cell_type": "code",
   "execution_count": null,
   "metadata": {
    "collapsed": true
   },
   "outputs": [],
   "source": []
  },
  {
   "cell_type": "code",
   "execution_count": 8,
   "metadata": {
    "collapsed": false
   },
   "outputs": [],
   "source": [
    "model = Sequential()\n",
    "\n",
    "model.add(Convolution2D(20,5,5,border_mode='valid',input_shape=(1, img_rows, img_cols)))\n",
    "model.add(Activation('relu'))\n"
   ]
  },
  {
   "cell_type": "code",
   "execution_count": 9,
   "metadata": {
    "collapsed": true
   },
   "outputs": [],
   "source": [
    "model.add(MaxPooling2D(pool_size=(nb_pool, nb_pool)))"
   ]
  },
  {
   "cell_type": "code",
   "execution_count": 10,
   "metadata": {
    "collapsed": false
   },
   "outputs": [],
   "source": [
    "model.add(Convolution2D(50, 5, 5))\n",
    "model.add(Activation('relu'))\n",
    "model.add(MaxPooling2D(pool_size=(nb_pool, nb_pool)))\n",
    "#model.add(Dropout(0.25))"
   ]
  },
  {
   "cell_type": "code",
   "execution_count": 11,
   "metadata": {
    "collapsed": false
   },
   "outputs": [],
   "source": [
    "model.add(Flatten())\n",
    "model.add(Dense(500))\n",
    "model.add(Activation('tanh'))\n",
    "#model.add(Dropout(0.5))\n",
    "model.add(Dense(nb_classes))\n",
    "model.add(Activation('softmax'))"
   ]
  },
  {
   "cell_type": "code",
   "execution_count": 12,
   "metadata": {
    "collapsed": false
   },
   "outputs": [],
   "source": [
    "model.compile(loss='categorical_crossentropy', optimizer='adadelta')"
   ]
  },
  {
   "cell_type": "code",
   "execution_count": 13,
   "metadata": {
    "collapsed": false
   },
   "outputs": [
    {
     "name": "stdout",
     "output_type": "stream",
     "text": [
      "Train on 50000 samples, validate on 10000 samples\n",
      "Epoch 1/150\n",
      "50000/50000 [==============================] - 3s - loss: 5.3833 - acc: 0.0186 - val_loss: 5.0952 - val_acc: 0.0335\n",
      "Epoch 2/150\n",
      "50000/50000 [==============================] - 3s - loss: 4.5004 - acc: 0.0618 - val_loss: 4.2620 - val_acc: 0.0848\n",
      "Epoch 3/150\n",
      "50000/50000 [==============================] - 3s - loss: 3.6425 - acc: 0.1446 - val_loss: 3.3951 - val_acc: 0.1855\n",
      "Epoch 4/150\n",
      "50000/50000 [==============================] - 3s - loss: 3.0133 - acc: 0.2443 - val_loss: 2.9458 - val_acc: 0.2552\n",
      "Epoch 5/150\n",
      "50000/50000 [==============================] - 3s - loss: 2.6041 - acc: 0.3248 - val_loss: 2.5316 - val_acc: 0.3468\n",
      "Epoch 6/150\n",
      "50000/50000 [==============================] - 3s - loss: 2.3292 - acc: 0.3842 - val_loss: 2.4016 - val_acc: 0.3662\n",
      "Epoch 7/150\n",
      "50000/50000 [==============================] - 3s - loss: 2.1964 - acc: 0.4066 - val_loss: 2.1522 - val_acc: 0.4308\n",
      "Epoch 8/150\n",
      "50000/50000 [==============================] - 3s - loss: 1.9665 - acc: 0.4638 - val_loss: 2.0941 - val_acc: 0.4365\n",
      "Epoch 9/150\n",
      "50000/50000 [==============================] - 3s - loss: 1.8415 - acc: 0.4915 - val_loss: 2.0566 - val_acc: 0.4518\n",
      "Epoch 10/150\n",
      "50000/50000 [==============================] - 3s - loss: 1.7222 - acc: 0.5219 - val_loss: 1.8291 - val_acc: 0.5017\n",
      "Epoch 11/150\n",
      "50000/50000 [==============================] - 3s - loss: 1.6123 - acc: 0.5444 - val_loss: 1.7258 - val_acc: 0.5257\n",
      "Epoch 12/150\n",
      "50000/50000 [==============================] - 3s - loss: 1.5925 - acc: 0.5493 - val_loss: 1.6653 - val_acc: 0.5351\n",
      "Epoch 13/150\n",
      "50000/50000 [==============================] - 3s - loss: 1.5551 - acc: 0.5642 - val_loss: 1.5612 - val_acc: 0.5725\n",
      "Epoch 14/150\n",
      "50000/50000 [==============================] - 3s - loss: 1.4236 - acc: 0.5933 - val_loss: 1.6309 - val_acc: 0.5483\n",
      "Epoch 15/150\n",
      "50000/50000 [==============================] - 3s - loss: 1.3832 - acc: 0.6071 - val_loss: 1.4609 - val_acc: 0.5893\n",
      "Epoch 16/150\n",
      "50000/50000 [==============================] - 3s - loss: 1.3240 - acc: 0.6200 - val_loss: 1.3959 - val_acc: 0.6079\n",
      "Epoch 17/150\n",
      "50000/50000 [==============================] - 3s - loss: 1.2516 - acc: 0.6396 - val_loss: 1.4339 - val_acc: 0.6009\n",
      "Epoch 18/150\n",
      "50000/50000 [==============================] - 3s - loss: 1.2372 - acc: 0.6454 - val_loss: 1.3480 - val_acc: 0.6212\n",
      "Epoch 19/150\n",
      "50000/50000 [==============================] - 3s - loss: 1.2019 - acc: 0.6549 - val_loss: 1.2611 - val_acc: 0.6436\n",
      "Epoch 20/150\n",
      "50000/50000 [==============================] - 3s - loss: 1.1988 - acc: 0.6522 - val_loss: 1.4028 - val_acc: 0.6098\n",
      "Epoch 21/150\n",
      "50000/50000 [==============================] - 3s - loss: 1.1348 - acc: 0.6698 - val_loss: 1.2662 - val_acc: 0.6476\n",
      "Epoch 22/150\n",
      "50000/50000 [==============================] - 3s - loss: 1.1391 - acc: 0.6659 - val_loss: 1.2635 - val_acc: 0.6490\n",
      "Epoch 23/150\n",
      "50000/50000 [==============================] - 3s - loss: 1.1136 - acc: 0.6738 - val_loss: 1.2906 - val_acc: 0.6347\n",
      "Epoch 24/150\n",
      "50000/50000 [==============================] - 3s - loss: 1.0970 - acc: 0.6809 - val_loss: 1.3102 - val_acc: 0.6324\n",
      "Epoch 25/150\n",
      "50000/50000 [==============================] - 3s - loss: 1.0676 - acc: 0.6864 - val_loss: 1.2550 - val_acc: 0.6403\n",
      "Epoch 26/150\n",
      "50000/50000 [==============================] - 3s - loss: 1.0870 - acc: 0.6860 - val_loss: 1.2379 - val_acc: 0.6553\n",
      "Epoch 27/150\n",
      "50000/50000 [==============================] - 3s - loss: 1.0543 - acc: 0.6944 - val_loss: 1.2391 - val_acc: 0.6513\n",
      "Epoch 28/150\n",
      "50000/50000 [==============================] - 3s - loss: 1.0947 - acc: 0.6797 - val_loss: 1.3256 - val_acc: 0.6303\n",
      "Epoch 29/150\n",
      "50000/50000 [==============================] - 3s - loss: 1.1122 - acc: 0.6720 - val_loss: 1.2709 - val_acc: 0.6469\n",
      "Epoch 30/150\n",
      "50000/50000 [==============================] - 3s - loss: 1.1151 - acc: 0.6745 - val_loss: 1.2461 - val_acc: 0.6534\n",
      "Epoch 31/150\n",
      "50000/50000 [==============================] - 3s - loss: 1.0298 - acc: 0.7011 - val_loss: 1.1576 - val_acc: 0.6749\n",
      "Epoch 32/150\n",
      "50000/50000 [==============================] - 3s - loss: 1.0199 - acc: 0.7054 - val_loss: 1.2221 - val_acc: 0.6607\n",
      "Epoch 33/150\n",
      "50000/50000 [==============================] - 3s - loss: 1.0094 - acc: 0.7029 - val_loss: 1.1350 - val_acc: 0.6770\n",
      "Epoch 34/150\n",
      "50000/50000 [==============================] - 3s - loss: 1.0038 - acc: 0.7026 - val_loss: 1.1034 - val_acc: 0.6886\n",
      "Epoch 35/150\n",
      "50000/50000 [==============================] - 3s - loss: 0.9969 - acc: 0.7080 - val_loss: 1.1289 - val_acc: 0.6804\n",
      "Epoch 36/150\n",
      "50000/50000 [==============================] - 3s - loss: 1.0275 - acc: 0.6998 - val_loss: 1.1496 - val_acc: 0.6738\n",
      "Epoch 37/150\n",
      "50000/50000 [==============================] - 3s - loss: 1.0024 - acc: 0.7054 - val_loss: 1.0684 - val_acc: 0.6973\n",
      "Epoch 38/150\n",
      "50000/50000 [==============================] - 3s - loss: 0.9687 - acc: 0.7160 - val_loss: 1.1418 - val_acc: 0.6829\n",
      "Epoch 39/150\n",
      "50000/50000 [==============================] - 3s - loss: 0.9700 - acc: 0.7155 - val_loss: 1.1199 - val_acc: 0.6817\n",
      "Epoch 40/150\n",
      "50000/50000 [==============================] - 3s - loss: 0.9327 - acc: 0.7230 - val_loss: 1.1271 - val_acc: 0.6895\n",
      "Epoch 41/150\n",
      "50000/50000 [==============================] - 3s - loss: 0.9226 - acc: 0.7264 - val_loss: 1.1388 - val_acc: 0.6764\n",
      "Epoch 42/150\n",
      "50000/50000 [==============================] - 3s - loss: 0.9419 - acc: 0.7199 - val_loss: 1.1140 - val_acc: 0.6880\n",
      "Epoch 43/150\n",
      "50000/50000 [==============================] - 3s - loss: 0.9342 - acc: 0.7205 - val_loss: 1.1893 - val_acc: 0.6711\n",
      "Epoch 44/150\n",
      "50000/50000 [==============================] - 3s - loss: 0.9134 - acc: 0.7282 - val_loss: 1.0886 - val_acc: 0.6900\n",
      "Epoch 45/150\n",
      "50000/50000 [==============================] - 3s - loss: 0.8827 - acc: 0.7358 - val_loss: 1.0854 - val_acc: 0.6987\n",
      "Epoch 46/150\n",
      "50000/50000 [==============================] - 3s - loss: 0.9234 - acc: 0.7295 - val_loss: 1.1148 - val_acc: 0.6971\n",
      "Epoch 47/150\n",
      "50000/50000 [==============================] - 3s - loss: 0.9069 - acc: 0.7320 - val_loss: 1.0767 - val_acc: 0.7047\n",
      "Epoch 48/150\n",
      "50000/50000 [==============================] - 3s - loss: 0.8979 - acc: 0.7340 - val_loss: 1.1459 - val_acc: 0.6789\n",
      "Epoch 49/150\n",
      "50000/50000 [==============================] - 3s - loss: 0.9491 - acc: 0.7219 - val_loss: 1.0760 - val_acc: 0.7000\n",
      "Epoch 50/150\n",
      "50000/50000 [==============================] - 3s - loss: 0.9207 - acc: 0.7273 - val_loss: 1.0890 - val_acc: 0.6941\n",
      "Epoch 51/150\n",
      "50000/50000 [==============================] - 3s - loss: 0.9353 - acc: 0.7245 - val_loss: 1.1512 - val_acc: 0.6816\n",
      "Epoch 52/150\n",
      "50000/50000 [==============================] - 3s - loss: 0.8900 - acc: 0.7369 - val_loss: 1.0736 - val_acc: 0.7001\n",
      "Epoch 53/150\n",
      "50000/50000 [==============================] - 3s - loss: 0.9202 - acc: 0.7300 - val_loss: 1.1127 - val_acc: 0.6960\n",
      "Epoch 54/150\n",
      "50000/50000 [==============================] - 3s - loss: 0.8978 - acc: 0.7356 - val_loss: 1.0475 - val_acc: 0.7121\n",
      "Epoch 55/150\n",
      "50000/50000 [==============================] - 3s - loss: 0.9018 - acc: 0.7318 - val_loss: 1.1175 - val_acc: 0.6945\n",
      "Epoch 56/150\n",
      "50000/50000 [==============================] - 3s - loss: 0.8773 - acc: 0.7388 - val_loss: 1.0291 - val_acc: 0.7161\n",
      "Epoch 57/150\n",
      "50000/50000 [==============================] - 3s - loss: 0.8712 - acc: 0.7418 - val_loss: 1.0841 - val_acc: 0.7018\n",
      "Epoch 58/150\n",
      "50000/50000 [==============================] - 3s - loss: 0.9011 - acc: 0.7305 - val_loss: 1.1458 - val_acc: 0.6843\n",
      "Epoch 59/150\n",
      "50000/50000 [==============================] - 3s - loss: 0.9010 - acc: 0.7358 - val_loss: 1.0322 - val_acc: 0.7121\n",
      "Epoch 60/150\n",
      "50000/50000 [==============================] - 3s - loss: 0.8775 - acc: 0.7363 - val_loss: 1.0280 - val_acc: 0.7108\n",
      "Epoch 61/150\n",
      "50000/50000 [==============================] - 3s - loss: 0.8755 - acc: 0.7425 - val_loss: 1.0393 - val_acc: 0.7110\n",
      "Epoch 62/150\n",
      "50000/50000 [==============================] - 3s - loss: 0.8700 - acc: 0.7408 - val_loss: 1.0293 - val_acc: 0.7105\n",
      "Epoch 63/150\n",
      "50000/50000 [==============================] - 3s - loss: 0.9159 - acc: 0.7296 - val_loss: 1.1655 - val_acc: 0.6815\n",
      "Epoch 64/150\n",
      "50000/50000 [==============================] - 3s - loss: 0.9301 - acc: 0.7277 - val_loss: 1.1744 - val_acc: 0.6773\n",
      "Epoch 65/150\n",
      "50000/50000 [==============================] - 3s - loss: 0.9343 - acc: 0.7256 - val_loss: 1.0708 - val_acc: 0.7049\n",
      "Epoch 66/150\n",
      "50000/50000 [==============================] - 3s - loss: 0.8602 - acc: 0.7474 - val_loss: 1.0171 - val_acc: 0.7185\n",
      "Epoch 67/150\n",
      "50000/50000 [==============================] - 3s - loss: 0.8910 - acc: 0.7367 - val_loss: 1.0441 - val_acc: 0.7106\n",
      "Epoch 68/150\n",
      "50000/50000 [==============================] - 3s - loss: 0.8324 - acc: 0.7542 - val_loss: 1.0607 - val_acc: 0.7125\n",
      "Epoch 69/150\n",
      "50000/50000 [==============================] - 3s - loss: 0.8499 - acc: 0.7501 - val_loss: 1.1375 - val_acc: 0.6880\n",
      "Epoch 70/150\n",
      "50000/50000 [==============================] - 3s - loss: 0.8306 - acc: 0.7521 - val_loss: 0.9912 - val_acc: 0.7209\n",
      "Epoch 71/150\n",
      "50000/50000 [==============================] - 3s - loss: 0.8279 - acc: 0.7524 - val_loss: 1.0561 - val_acc: 0.7095\n",
      "Epoch 72/150\n",
      "50000/50000 [==============================] - 3s - loss: 0.8213 - acc: 0.7556 - val_loss: 0.9652 - val_acc: 0.7317\n",
      "Epoch 73/150\n",
      "50000/50000 [==============================] - 3s - loss: 0.7974 - acc: 0.7624 - val_loss: 0.9990 - val_acc: 0.7163\n",
      "Epoch 74/150\n",
      "50000/50000 [==============================] - 3s - loss: 0.8301 - acc: 0.7528 - val_loss: 0.9836 - val_acc: 0.7298\n",
      "Epoch 75/150\n",
      "50000/50000 [==============================] - 3s - loss: 0.8118 - acc: 0.7586 - val_loss: 1.0869 - val_acc: 0.6986\n",
      "Epoch 76/150\n",
      "50000/50000 [==============================] - 3s - loss: 0.8381 - acc: 0.7492 - val_loss: 1.0052 - val_acc: 0.7237\n",
      "Epoch 77/150\n",
      "50000/50000 [==============================] - 3s - loss: 0.8195 - acc: 0.7588 - val_loss: 0.9819 - val_acc: 0.7326\n",
      "Epoch 78/150\n",
      "50000/50000 [==============================] - 3s - loss: 0.7983 - acc: 0.7634 - val_loss: 1.0332 - val_acc: 0.7148\n",
      "Epoch 79/150\n",
      "50000/50000 [==============================] - 3s - loss: 0.8285 - acc: 0.7542 - val_loss: 1.0641 - val_acc: 0.7069\n",
      "Epoch 80/150\n",
      "50000/50000 [==============================] - 3s - loss: 0.7946 - acc: 0.7630 - val_loss: 0.9904 - val_acc: 0.7187\n",
      "Epoch 81/150\n",
      "50000/50000 [==============================] - 3s - loss: 0.8204 - acc: 0.7548 - val_loss: 1.1654 - val_acc: 0.6887\n",
      "Epoch 82/150\n",
      "50000/50000 [==============================] - 3s - loss: 0.8628 - acc: 0.7456 - val_loss: 1.0306 - val_acc: 0.7168\n",
      "Epoch 83/150\n",
      "50000/50000 [==============================] - 3s - loss: 0.8205 - acc: 0.7545 - val_loss: 1.0114 - val_acc: 0.7259\n",
      "Epoch 84/150\n",
      "50000/50000 [==============================] - 3s - loss: 0.8777 - acc: 0.7419 - val_loss: 1.1403 - val_acc: 0.6852\n",
      "Epoch 85/150\n",
      "50000/50000 [==============================] - 3s - loss: 0.9096 - acc: 0.7338 - val_loss: 0.9878 - val_acc: 0.7334\n",
      "Epoch 86/150\n",
      "50000/50000 [==============================] - 3s - loss: 0.8491 - acc: 0.7517 - val_loss: 1.0024 - val_acc: 0.7178\n",
      "Epoch 87/150\n",
      "50000/50000 [==============================] - 3s - loss: 0.8283 - acc: 0.7550 - val_loss: 1.1085 - val_acc: 0.6983\n",
      "Epoch 88/150\n",
      "50000/50000 [==============================] - 3s - loss: 0.8553 - acc: 0.7468 - val_loss: 1.0373 - val_acc: 0.7128\n",
      "Epoch 89/150\n",
      "50000/50000 [==============================] - 3s - loss: 0.8458 - acc: 0.7500 - val_loss: 0.9959 - val_acc: 0.7228\n",
      "Epoch 90/150\n",
      "50000/50000 [==============================] - 3s - loss: 0.8467 - acc: 0.7520 - val_loss: 1.0491 - val_acc: 0.7085\n",
      "Epoch 91/150\n",
      "50000/50000 [==============================] - 3s - loss: 0.8767 - acc: 0.7391 - val_loss: 1.0335 - val_acc: 0.7071\n",
      "Epoch 92/150\n",
      "50000/50000 [==============================] - 3s - loss: 0.8564 - acc: 0.7460 - val_loss: 1.0646 - val_acc: 0.6990\n",
      "Epoch 93/150\n",
      "50000/50000 [==============================] - 3s - loss: 0.8443 - acc: 0.7515 - val_loss: 1.0725 - val_acc: 0.7001\n",
      "Epoch 94/150\n",
      "50000/50000 [==============================] - 3s - loss: 0.8461 - acc: 0.7509 - val_loss: 0.9911 - val_acc: 0.7268\n",
      "Epoch 95/150\n",
      "50000/50000 [==============================] - 3s - loss: 0.8909 - acc: 0.7370 - val_loss: 1.0495 - val_acc: 0.7124\n",
      "Epoch 96/150\n",
      "50000/50000 [==============================] - 3s - loss: 0.8388 - acc: 0.7518 - val_loss: 1.0242 - val_acc: 0.7185\n",
      "Epoch 97/150\n",
      "50000/50000 [==============================] - 3s - loss: 0.8247 - acc: 0.7555 - val_loss: 0.9633 - val_acc: 0.7303\n",
      "Epoch 98/150\n",
      "50000/50000 [==============================] - 3s - loss: 0.8269 - acc: 0.7557 - val_loss: 1.0356 - val_acc: 0.7123\n",
      "Epoch 99/150\n",
      "50000/50000 [==============================] - 3s - loss: 0.8846 - acc: 0.7406 - val_loss: 1.0909 - val_acc: 0.7091\n",
      "Epoch 100/150\n",
      "50000/50000 [==============================] - 3s - loss: 0.8421 - acc: 0.7511 - val_loss: 1.0561 - val_acc: 0.7190\n",
      "Epoch 101/150\n",
      "50000/50000 [==============================] - 3s - loss: 0.8245 - acc: 0.7551 - val_loss: 0.9807 - val_acc: 0.7288\n",
      "Epoch 102/150\n",
      "50000/50000 [==============================] - 3s - loss: 0.7930 - acc: 0.7632 - val_loss: 0.9471 - val_acc: 0.7343\n",
      "Epoch 103/150\n",
      "50000/50000 [==============================] - 3s - loss: 0.7379 - acc: 0.7782 - val_loss: 0.9303 - val_acc: 0.7392\n",
      "Epoch 104/150\n",
      "50000/50000 [==============================] - 3s - loss: 0.7922 - acc: 0.7632 - val_loss: 1.0104 - val_acc: 0.7182\n",
      "Epoch 105/150\n",
      "50000/50000 [==============================] - 3s - loss: 0.7863 - acc: 0.7636 - val_loss: 1.0628 - val_acc: 0.7119\n",
      "Epoch 106/150\n",
      "50000/50000 [==============================] - 3s - loss: 0.8183 - acc: 0.7551 - val_loss: 1.0822 - val_acc: 0.6966\n",
      "Epoch 107/150\n",
      "50000/50000 [==============================] - 3s - loss: 0.8187 - acc: 0.7555 - val_loss: 0.9853 - val_acc: 0.7267\n",
      "Epoch 108/150\n",
      "50000/50000 [==============================] - 3s - loss: 0.7946 - acc: 0.7624 - val_loss: 1.0372 - val_acc: 0.7209\n",
      "Epoch 109/150\n",
      "50000/50000 [==============================] - 3s - loss: 0.7800 - acc: 0.7677 - val_loss: 1.0195 - val_acc: 0.7239\n",
      "Epoch 110/150\n",
      "50000/50000 [==============================] - 3s - loss: 0.7785 - acc: 0.7674 - val_loss: 0.9440 - val_acc: 0.7395\n",
      "Epoch 111/150\n",
      "50000/50000 [==============================] - 3s - loss: 0.7748 - acc: 0.7669 - val_loss: 0.9837 - val_acc: 0.7266\n",
      "Epoch 112/150\n",
      "50000/50000 [==============================] - 3s - loss: 0.8157 - acc: 0.7562 - val_loss: 0.9772 - val_acc: 0.7327\n",
      "Epoch 113/150\n",
      "50000/50000 [==============================] - 3s - loss: 0.7843 - acc: 0.7657 - val_loss: 0.9586 - val_acc: 0.7342\n",
      "Epoch 114/150\n",
      "50000/50000 [==============================] - 3s - loss: 0.8057 - acc: 0.7555 - val_loss: 1.1096 - val_acc: 0.6950\n",
      "Epoch 115/150\n",
      "50000/50000 [==============================] - 3s - loss: 0.8563 - acc: 0.7453 - val_loss: 1.0552 - val_acc: 0.7132\n",
      "Epoch 116/150\n",
      "50000/50000 [==============================] - 3s - loss: 0.7608 - acc: 0.7717 - val_loss: 0.9933 - val_acc: 0.7292\n",
      "Epoch 117/150\n",
      "50000/50000 [==============================] - 3s - loss: 0.7813 - acc: 0.7666 - val_loss: 0.9124 - val_acc: 0.7507\n",
      "Epoch 118/150\n",
      "50000/50000 [==============================] - 3s - loss: 0.7659 - acc: 0.7746 - val_loss: 1.0107 - val_acc: 0.7225\n",
      "Epoch 119/150\n",
      "50000/50000 [==============================] - 3s - loss: 0.7483 - acc: 0.7775 - val_loss: 1.0276 - val_acc: 0.7271\n",
      "Epoch 120/150\n",
      "50000/50000 [==============================] - 3s - loss: 0.7632 - acc: 0.7759 - val_loss: 1.1466 - val_acc: 0.6986\n",
      "Epoch 121/150\n",
      "50000/50000 [==============================] - 3s - loss: 0.7547 - acc: 0.7757 - val_loss: 0.9590 - val_acc: 0.7328\n",
      "Epoch 122/150\n",
      "50000/50000 [==============================] - 3s - loss: 0.7716 - acc: 0.7705 - val_loss: 1.0800 - val_acc: 0.7049\n",
      "Epoch 123/150\n",
      "50000/50000 [==============================] - 3s - loss: 0.8072 - acc: 0.7594 - val_loss: 0.9903 - val_acc: 0.7335\n",
      "Epoch 124/150\n",
      "50000/50000 [==============================] - 3s - loss: 0.7930 - acc: 0.7646 - val_loss: 1.0597 - val_acc: 0.7080\n",
      "Epoch 125/150\n",
      "50000/50000 [==============================] - 3s - loss: 0.8154 - acc: 0.7589 - val_loss: 0.9419 - val_acc: 0.7439\n",
      "Epoch 126/150\n",
      "50000/50000 [==============================] - 3s - loss: 0.7744 - acc: 0.7705 - val_loss: 1.0015 - val_acc: 0.7301\n",
      "Epoch 127/150\n",
      "50000/50000 [==============================] - 3s - loss: 0.7260 - acc: 0.7854 - val_loss: 0.9420 - val_acc: 0.7475\n",
      "Epoch 128/150\n",
      "50000/50000 [==============================] - 3s - loss: 0.7375 - acc: 0.7787 - val_loss: 0.9706 - val_acc: 0.7339\n",
      "Epoch 129/150\n",
      "50000/50000 [==============================] - 3s - loss: 0.7524 - acc: 0.7741 - val_loss: 1.0842 - val_acc: 0.7149\n",
      "Epoch 130/150\n",
      "50000/50000 [==============================] - 3s - loss: 0.7711 - acc: 0.7713 - val_loss: 1.0111 - val_acc: 0.7271\n",
      "Epoch 131/150\n",
      "50000/50000 [==============================] - 3s - loss: 0.7516 - acc: 0.7742 - val_loss: 1.0338 - val_acc: 0.7233\n",
      "Epoch 132/150\n",
      "50000/50000 [==============================] - 3s - loss: 0.7095 - acc: 0.7859 - val_loss: 0.9600 - val_acc: 0.7391\n",
      "Epoch 133/150\n",
      "50000/50000 [==============================] - 3s - loss: 0.7091 - acc: 0.7856 - val_loss: 0.9048 - val_acc: 0.7559\n",
      "Epoch 134/150\n",
      "50000/50000 [==============================] - 3s - loss: 0.6940 - acc: 0.7885 - val_loss: 0.9406 - val_acc: 0.7506\n",
      "Epoch 135/150\n",
      "50000/50000 [==============================] - 3s - loss: 0.7284 - acc: 0.7807 - val_loss: 1.1289 - val_acc: 0.7057\n",
      "Epoch 136/150\n",
      "50000/50000 [==============================] - 3s - loss: 0.7193 - acc: 0.7844 - val_loss: 0.9678 - val_acc: 0.7341\n",
      "Epoch 137/150\n",
      "50000/50000 [==============================] - 3s - loss: 0.8181 - acc: 0.7568 - val_loss: 0.9676 - val_acc: 0.7314\n",
      "Epoch 138/150\n",
      "50000/50000 [==============================] - 3s - loss: 0.7232 - acc: 0.7804 - val_loss: 0.9843 - val_acc: 0.7327\n",
      "Epoch 139/150\n",
      "50000/50000 [==============================] - 3s - loss: 0.7077 - acc: 0.7869 - val_loss: 0.9272 - val_acc: 0.7450\n",
      "Epoch 140/150\n",
      "50000/50000 [==============================] - 3s - loss: 0.7302 - acc: 0.7807 - val_loss: 0.9840 - val_acc: 0.7316\n",
      "Epoch 141/150\n",
      "50000/50000 [==============================] - 3s - loss: 0.6911 - acc: 0.7905 - val_loss: 0.8998 - val_acc: 0.7558\n",
      "Epoch 142/150\n",
      "50000/50000 [==============================] - 3s - loss: 0.6799 - acc: 0.7925 - val_loss: 0.9416 - val_acc: 0.7472\n",
      "Epoch 143/150\n",
      "50000/50000 [==============================] - 3s - loss: 0.6944 - acc: 0.7868 - val_loss: 0.9914 - val_acc: 0.7372\n",
      "Epoch 144/150\n",
      "50000/50000 [==============================] - 3s - loss: 0.7082 - acc: 0.7846 - val_loss: 0.9459 - val_acc: 0.7437\n",
      "Epoch 145/150\n",
      "50000/50000 [==============================] - 3s - loss: 0.7242 - acc: 0.7795 - val_loss: 1.0095 - val_acc: 0.7284\n",
      "Epoch 146/150\n",
      "50000/50000 [==============================] - 3s - loss: 0.7557 - acc: 0.7713 - val_loss: 1.0708 - val_acc: 0.7070\n",
      "Epoch 147/150\n",
      "50000/50000 [==============================] - 3s - loss: 0.8361 - acc: 0.7509 - val_loss: 1.1102 - val_acc: 0.7001\n",
      "Epoch 148/150\n",
      "50000/50000 [==============================] - 3s - loss: 0.8139 - acc: 0.7566 - val_loss: 1.1665 - val_acc: 0.6874\n",
      "Epoch 149/150\n",
      "50000/50000 [==============================] - 3s - loss: 0.8612 - acc: 0.7459 - val_loss: 1.0549 - val_acc: 0.7214\n",
      "Epoch 150/150\n",
      "50000/50000 [==============================] - 3s - loss: 0.8065 - acc: 0.7596 - val_loss: 1.0813 - val_acc: 0.7086\n"
     ]
    },
    {
     "data": {
      "text/plain": [
       "<keras.callbacks.History at 0x7f22b8118c90>"
      ]
     },
     "execution_count": 13,
     "metadata": {},
     "output_type": "execute_result"
    }
   ],
   "source": [
    "model.fit(train_set_x, Y_train, batch_size=128, nb_epoch=150,\n",
    "          show_accuracy=True, verbose=1, validation_data=(test_set_x, Y_test))"
   ]
  },
  {
   "cell_type": "code",
   "execution_count": 14,
   "metadata": {
    "collapsed": false
   },
   "outputs": [
    {
     "data": {
      "text/plain": [
       "[1.0813241790771484, 0.70860000000000001]"
      ]
     },
     "execution_count": 14,
     "metadata": {},
     "output_type": "execute_result"
    }
   ],
   "source": [
    "model.evaluate(test_set_x, Y_test, show_accuracy=True, verbose=0)"
   ]
  },
  {
   "cell_type": "code",
   "execution_count": null,
   "metadata": {
    "collapsed": false
   },
   "outputs": [],
   "source": [
    "print score"
   ]
  }
 ],
 "metadata": {
  "kernelspec": {
   "display_name": "Python 2",
   "language": "python",
   "name": "python2"
  },
  "language_info": {
   "codemirror_mode": {
    "name": "ipython",
    "version": 2
   },
   "file_extension": ".py",
   "mimetype": "text/x-python",
   "name": "python",
   "nbconvert_exporter": "python",
   "pygments_lexer": "ipython2",
   "version": "2.7.6"
  }
 },
 "nbformat": 4,
 "nbformat_minor": 0
}
