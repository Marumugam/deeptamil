{
 "cells": [
  {
   "cell_type": "code",
   "execution_count": 1,
   "metadata": {
    "collapsed": false
   },
   "outputs": [
    {
     "name": "stdout",
     "output_type": "stream",
     "text": [
      "Using Theano backend.\n"
     ]
    },
    {
     "name": "stderr",
     "output_type": "stream",
     "text": [
      "Using gpu device 0: GeForce GTX 960 (CNMeM is enabled)\n"
     ]
    }
   ],
   "source": [
    "import numpy as np\n",
    "\n",
    "from keras.models import Sequential\n",
    "from keras.layers.core import Dense, Dropout, Activation, Flatten\n",
    "from keras.layers.convolutional import Convolution2D, MaxPooling2D\n",
    "from keras.utils import np_utils\n",
    "from mnist import load_data"
   ]
  },
  {
   "cell_type": "code",
   "execution_count": 2,
   "metadata": {
    "collapsed": false
   },
   "outputs": [],
   "source": [
    "batch_size = 128\n",
    "nb_classes = 156\n",
    "nb_epoch = 100"
   ]
  },
  {
   "cell_type": "code",
   "execution_count": 3,
   "metadata": {
    "collapsed": false
   },
   "outputs": [],
   "source": [
    "# input image dimensions\n",
    "img_rows, img_cols = 30,30\n",
    "# number of convolutional filters to use\n",
    "#nb_filters = 32\n",
    "# size of pooling area for max pooling\n",
    "nb_pool = 2\n",
    "# convolution kernel size\n",
    "nb_conv = 5"
   ]
  },
  {
   "cell_type": "code",
   "execution_count": 4,
   "metadata": {
    "collapsed": false
   },
   "outputs": [
    {
     "name": "stdout",
     "output_type": "stream",
     "text": [
      "... loading data\n"
     ]
    }
   ],
   "source": [
    "datasets = load_data('TamilCh.pkl.gz')\n",
    "train_set_x, train_set_y = datasets[0]\n",
    "#valid_set_x, valid_set_y = datasets[1]\n",
    "test_set_x, test_set_y = datasets[1]"
   ]
  },
  {
   "cell_type": "code",
   "execution_count": 5,
   "metadata": {
    "collapsed": false
   },
   "outputs": [
    {
     "name": "stdout",
     "output_type": "stream",
     "text": [
      "(10000, 900)\n",
      "(10000,)\n"
     ]
    }
   ],
   "source": [
    "print test_set_x.shape\n",
    "print test_set_y.shape"
   ]
  },
  {
   "cell_type": "code",
   "execution_count": 6,
   "metadata": {
    "collapsed": false
   },
   "outputs": [],
   "source": [
    "imrows = 30; imcols=30\n",
    "#layer_filters = 32\n",
    "pooling_size = 2\n",
    "recep_field = 3"
   ]
  },
  {
   "cell_type": "code",
   "execution_count": 7,
   "metadata": {
    "collapsed": false
   },
   "outputs": [],
   "source": [
    "# reshape images\n",
    "train_set_x = train_set_x.reshape(train_set_x.shape[0],1,imrows,imcols)\n",
    "test_set_x = test_set_x.reshape(test_set_x.shape[0],1,imrows,imcols)"
   ]
  },
  {
   "cell_type": "code",
   "execution_count": 8,
   "metadata": {
    "collapsed": false
   },
   "outputs": [],
   "source": [
    "# convert class vectors to binary class matrices\n",
    "Y_train = np_utils.to_categorical(train_set_y, nb_classes)\n",
    "Y_test = np_utils.to_categorical(test_set_y, nb_classes)"
   ]
  },
  {
   "cell_type": "code",
   "execution_count": 9,
   "metadata": {
    "collapsed": false
   },
   "outputs": [],
   "source": [
    "model = Sequential()\n",
    "\n",
    "model.add(Convolution2D(6,5,5,border_mode='valid',input_shape=(1, img_rows, img_cols)))\n",
    "model.add(Activation('relu'))\n"
   ]
  },
  {
   "cell_type": "code",
   "execution_count": 10,
   "metadata": {
    "collapsed": true
   },
   "outputs": [],
   "source": [
    "model.add(MaxPooling2D(pool_size=(nb_pool, nb_pool)))"
   ]
  },
  {
   "cell_type": "code",
   "execution_count": 11,
   "metadata": {
    "collapsed": false
   },
   "outputs": [],
   "source": [
    "model.add(Convolution2D(16, 5, 5))\n",
    "model.add(Activation('relu'))\n",
    "model.add(MaxPooling2D(pool_size=(nb_pool, nb_pool)))\n",
    "#model.add(Dropout(0.25))"
   ]
  },
  {
   "cell_type": "code",
   "execution_count": 12,
   "metadata": {
    "collapsed": true
   },
   "outputs": [],
   "source": [
    "model.add(Convolution2D(50, 2, 2))\n",
    "model.add(Activation('relu'))"
   ]
  },
  {
   "cell_type": "code",
   "execution_count": 13,
   "metadata": {
    "collapsed": false
   },
   "outputs": [],
   "source": [
    "model.add(Flatten())\n",
    "model.add(Dense(100))\n",
    "model.add(Activation('tanh'))\n",
    "#model.add(Dropout(0.5))\n",
    "model.add(Dense(nb_classes))\n",
    "model.add(Activation('softmax'))"
   ]
  },
  {
   "cell_type": "code",
   "execution_count": 14,
   "metadata": {
    "collapsed": false
   },
   "outputs": [],
   "source": [
    "model.compile(loss='categorical_crossentropy', optimizer='adadelta')"
   ]
  },
  {
   "cell_type": "code",
   "execution_count": 15,
   "metadata": {
    "collapsed": false
   },
   "outputs": [
    {
     "name": "stdout",
     "output_type": "stream",
     "text": [
      "Train on 50000 samples, validate on 10000 samples\n",
      "Epoch 1/150\n",
      "50000/50000 [==============================] - 2s - loss: 4.2929 - acc: 0.0800 - val_loss: 3.3888 - val_acc: 0.1788\n",
      "Epoch 2/150\n",
      "50000/50000 [==============================] - 2s - loss: 2.9601 - acc: 0.2589 - val_loss: 2.6010 - val_acc: 0.3104\n",
      "Epoch 3/150\n",
      "50000/50000 [==============================] - 2s - loss: 2.2963 - acc: 0.3830 - val_loss: 2.1296 - val_acc: 0.4133\n",
      "Epoch 4/150\n",
      "50000/50000 [==============================] - 2s - loss: 2.0203 - acc: 0.4471 - val_loss: 1.9422 - val_acc: 0.4592\n",
      "Epoch 5/150\n",
      "50000/50000 [==============================] - 2s - loss: 1.8824 - acc: 0.4723 - val_loss: 1.9043 - val_acc: 0.4620\n",
      "Epoch 6/150\n",
      "50000/50000 [==============================] - 2s - loss: 1.7762 - acc: 0.4948 - val_loss: 1.7226 - val_acc: 0.5082\n",
      "Epoch 7/150\n",
      "50000/50000 [==============================] - 2s - loss: 1.7191 - acc: 0.5093 - val_loss: 1.6654 - val_acc: 0.5256\n",
      "Epoch 8/150\n",
      "50000/50000 [==============================] - 2s - loss: 1.6775 - acc: 0.5186 - val_loss: 1.7206 - val_acc: 0.5144\n",
      "Epoch 9/150\n",
      "50000/50000 [==============================] - 2s - loss: 1.6238 - acc: 0.5312 - val_loss: 1.5348 - val_acc: 0.5588\n",
      "Epoch 10/150\n",
      "50000/50000 [==============================] - 2s - loss: 1.5664 - acc: 0.5480 - val_loss: 1.7537 - val_acc: 0.4985\n",
      "Epoch 11/150\n",
      "50000/50000 [==============================] - 2s - loss: 1.5575 - acc: 0.5482 - val_loss: 1.5086 - val_acc: 0.5669\n",
      "Epoch 12/150\n",
      "50000/50000 [==============================] - 2s - loss: 1.5020 - acc: 0.5632 - val_loss: 1.4908 - val_acc: 0.5650\n",
      "Epoch 13/150\n",
      "50000/50000 [==============================] - 2s - loss: 1.5181 - acc: 0.5606 - val_loss: 1.5278 - val_acc: 0.5608\n",
      "Epoch 14/150\n",
      "50000/50000 [==============================] - 2s - loss: 1.4926 - acc: 0.5670 - val_loss: 1.5554 - val_acc: 0.5472\n",
      "Epoch 15/150\n",
      "50000/50000 [==============================] - 2s - loss: 1.4909 - acc: 0.5684 - val_loss: 1.5474 - val_acc: 0.5541\n",
      "Epoch 16/150\n",
      "50000/50000 [==============================] - 2s - loss: 1.4347 - acc: 0.5784 - val_loss: 1.3854 - val_acc: 0.5950\n",
      "Epoch 17/150\n",
      "50000/50000 [==============================] - 2s - loss: 1.4145 - acc: 0.5897 - val_loss: 1.5132 - val_acc: 0.5629\n",
      "Epoch 18/150\n",
      "50000/50000 [==============================] - 2s - loss: 1.4228 - acc: 0.5855 - val_loss: 1.4516 - val_acc: 0.5799\n",
      "Epoch 19/150\n",
      "50000/50000 [==============================] - 3s - loss: 1.3958 - acc: 0.5915 - val_loss: 1.4617 - val_acc: 0.5805\n",
      "Epoch 20/150\n",
      "50000/50000 [==============================] - 2s - loss: 1.4085 - acc: 0.5879 - val_loss: 1.4312 - val_acc: 0.5864\n",
      "Epoch 21/150\n",
      "50000/50000 [==============================] - 3s - loss: 1.3769 - acc: 0.5932 - val_loss: 1.4140 - val_acc: 0.5931\n",
      "Epoch 22/150\n",
      "50000/50000 [==============================] - 3s - loss: 1.3896 - acc: 0.5953 - val_loss: 1.4100 - val_acc: 0.5910\n",
      "Epoch 23/150\n",
      "50000/50000 [==============================] - 2s - loss: 1.3624 - acc: 0.6002 - val_loss: 1.3803 - val_acc: 0.5971\n",
      "Epoch 24/150\n",
      "50000/50000 [==============================] - 2s - loss: 1.3836 - acc: 0.5959 - val_loss: 1.4234 - val_acc: 0.5925\n",
      "Epoch 25/150\n",
      "50000/50000 [==============================] - 3s - loss: 1.3664 - acc: 0.5999 - val_loss: 1.3988 - val_acc: 0.5921\n",
      "Epoch 26/150\n",
      "50000/50000 [==============================] - 2s - loss: 1.3714 - acc: 0.5984 - val_loss: 1.4400 - val_acc: 0.5800\n",
      "Epoch 27/150\n",
      "50000/50000 [==============================] - 3s - loss: 1.3453 - acc: 0.6054 - val_loss: 1.3817 - val_acc: 0.6009\n",
      "Epoch 28/150\n",
      "50000/50000 [==============================] - 3s - loss: 1.3159 - acc: 0.6134 - val_loss: 1.3423 - val_acc: 0.6066\n",
      "Epoch 29/150\n",
      "50000/50000 [==============================] - 2s - loss: 1.3002 - acc: 0.6167 - val_loss: 1.3067 - val_acc: 0.6183\n",
      "Epoch 30/150\n",
      "50000/50000 [==============================] - 3s - loss: 1.2980 - acc: 0.6155 - val_loss: 1.3672 - val_acc: 0.5958\n",
      "Epoch 31/150\n",
      "50000/50000 [==============================] - 3s - loss: 1.2378 - acc: 0.6330 - val_loss: 1.4283 - val_acc: 0.5720\n",
      "Epoch 32/150\n",
      "50000/50000 [==============================] - 2s - loss: 1.2451 - acc: 0.6311 - val_loss: 1.2296 - val_acc: 0.6325\n",
      "Epoch 33/150\n",
      "50000/50000 [==============================] - 3s - loss: 1.2998 - acc: 0.6183 - val_loss: 1.3272 - val_acc: 0.6145\n",
      "Epoch 34/150\n",
      "50000/50000 [==============================] - 3s - loss: 1.3204 - acc: 0.6128 - val_loss: 1.3194 - val_acc: 0.6110\n",
      "Epoch 35/150\n",
      "50000/50000 [==============================] - 2s - loss: 1.2818 - acc: 0.6201 - val_loss: 1.3938 - val_acc: 0.5960\n",
      "Epoch 36/150\n",
      "50000/50000 [==============================] - 2s - loss: 1.2536 - acc: 0.6307 - val_loss: 1.2971 - val_acc: 0.6187\n",
      "Epoch 37/150\n",
      "50000/50000 [==============================] - 3s - loss: 1.2665 - acc: 0.6261 - val_loss: 1.2818 - val_acc: 0.6252\n",
      "Epoch 38/150\n",
      "50000/50000 [==============================] - 2s - loss: 1.2623 - acc: 0.6255 - val_loss: 1.2808 - val_acc: 0.6253\n",
      "Epoch 39/150\n",
      "50000/50000 [==============================] - 3s - loss: 1.3029 - acc: 0.6182 - val_loss: 1.3525 - val_acc: 0.6092\n",
      "Epoch 40/150\n",
      "50000/50000 [==============================] - 2s - loss: 1.2897 - acc: 0.6234 - val_loss: 1.2665 - val_acc: 0.6283\n",
      "Epoch 41/150\n",
      "50000/50000 [==============================] - 2s - loss: 1.2313 - acc: 0.6370 - val_loss: 1.3065 - val_acc: 0.6253\n",
      "Epoch 42/150\n",
      "50000/50000 [==============================] - 3s - loss: 1.1967 - acc: 0.6450 - val_loss: 1.2004 - val_acc: 0.6460\n",
      "Epoch 43/150\n",
      "50000/50000 [==============================] - 2s - loss: 1.3344 - acc: 0.6124 - val_loss: 1.3893 - val_acc: 0.5923\n",
      "Epoch 44/150\n",
      "50000/50000 [==============================] - 2s - loss: 1.2540 - acc: 0.6310 - val_loss: 1.2289 - val_acc: 0.6402\n",
      "Epoch 45/150\n",
      "50000/50000 [==============================] - 2s - loss: 1.2372 - acc: 0.6349 - val_loss: 1.3809 - val_acc: 0.5980\n",
      "Epoch 46/150\n",
      "50000/50000 [==============================] - 3s - loss: 1.3059 - acc: 0.6171 - val_loss: 1.4677 - val_acc: 0.5800\n",
      "Epoch 47/150\n",
      "50000/50000 [==============================] - 2s - loss: 1.2630 - acc: 0.6316 - val_loss: 1.3694 - val_acc: 0.6062\n",
      "Epoch 48/150\n",
      "50000/50000 [==============================] - 2s - loss: 1.2069 - acc: 0.6441 - val_loss: 1.2689 - val_acc: 0.6330\n",
      "Epoch 49/150\n",
      "50000/50000 [==============================] - 2s - loss: 1.2603 - acc: 0.6307 - val_loss: 1.2168 - val_acc: 0.6446\n",
      "Epoch 50/150\n",
      "50000/50000 [==============================] - 2s - loss: 1.2025 - acc: 0.6446 - val_loss: 1.2496 - val_acc: 0.6381\n",
      "Epoch 51/150\n",
      "50000/50000 [==============================] - 2s - loss: 1.1857 - acc: 0.6484 - val_loss: 1.2093 - val_acc: 0.6434\n",
      "Epoch 52/150\n",
      "50000/50000 [==============================] - 2s - loss: 1.2188 - acc: 0.6403 - val_loss: 1.2369 - val_acc: 0.6377\n",
      "Epoch 53/150\n",
      "50000/50000 [==============================] - 2s - loss: 1.2361 - acc: 0.6352 - val_loss: 1.2504 - val_acc: 0.6270\n",
      "Epoch 54/150\n",
      "50000/50000 [==============================] - 2s - loss: 1.2216 - acc: 0.6385 - val_loss: 1.2601 - val_acc: 0.6300\n",
      "Epoch 55/150\n",
      "50000/50000 [==============================] - 2s - loss: 1.1952 - acc: 0.6464 - val_loss: 1.3198 - val_acc: 0.6152\n",
      "Epoch 56/150\n",
      "50000/50000 [==============================] - 2s - loss: 1.2308 - acc: 0.6333 - val_loss: 1.2275 - val_acc: 0.6387\n",
      "Epoch 57/150\n",
      "50000/50000 [==============================] - 3s - loss: 1.2055 - acc: 0.6430 - val_loss: 1.2418 - val_acc: 0.6381\n",
      "Epoch 58/150\n",
      "50000/50000 [==============================] - 2s - loss: 1.2337 - acc: 0.6380 - val_loss: 1.2758 - val_acc: 0.6295\n",
      "Epoch 59/150\n",
      "50000/50000 [==============================] - 2s - loss: 1.2302 - acc: 0.6405 - val_loss: 1.3173 - val_acc: 0.6184\n",
      "Epoch 60/150\n",
      "50000/50000 [==============================] - 2s - loss: 1.2566 - acc: 0.6336 - val_loss: 1.2140 - val_acc: 0.6443\n",
      "Epoch 61/150\n",
      "50000/50000 [==============================] - 2s - loss: 1.1970 - acc: 0.6483 - val_loss: 1.2919 - val_acc: 0.6178\n",
      "Epoch 62/150\n",
      "50000/50000 [==============================] - 3s - loss: 1.2109 - acc: 0.6397 - val_loss: 1.2245 - val_acc: 0.6410\n",
      "Epoch 63/150\n",
      "50000/50000 [==============================] - 3s - loss: 1.2460 - acc: 0.6320 - val_loss: 1.3207 - val_acc: 0.6206\n",
      "Epoch 64/150\n",
      "50000/50000 [==============================] - 3s - loss: 1.2383 - acc: 0.6365 - val_loss: 1.3238 - val_acc: 0.6170\n",
      "Epoch 65/150\n",
      "50000/50000 [==============================] - 3s - loss: 1.2750 - acc: 0.6289 - val_loss: 1.2309 - val_acc: 0.6402\n",
      "Epoch 66/150\n",
      "50000/50000 [==============================] - 3s - loss: 1.1915 - acc: 0.6461 - val_loss: 1.3001 - val_acc: 0.6210\n",
      "Epoch 67/150\n",
      "50000/50000 [==============================] - 2s - loss: 1.2072 - acc: 0.6434 - val_loss: 1.4617 - val_acc: 0.5805\n",
      "Epoch 68/150\n",
      "50000/50000 [==============================] - 3s - loss: 1.2578 - acc: 0.6306 - val_loss: 1.3194 - val_acc: 0.6106\n",
      "Epoch 69/150\n",
      "50000/50000 [==============================] - 3s - loss: 1.2681 - acc: 0.6266 - val_loss: 1.2530 - val_acc: 0.6304\n",
      "Epoch 70/150\n",
      "50000/50000 [==============================] - 2s - loss: 1.1885 - acc: 0.6466 - val_loss: 1.2647 - val_acc: 0.6302\n",
      "Epoch 71/150\n",
      "50000/50000 [==============================] - 2s - loss: 1.2023 - acc: 0.6473 - val_loss: 1.2518 - val_acc: 0.6353\n",
      "Epoch 72/150\n",
      "50000/50000 [==============================] - 2s - loss: 1.1907 - acc: 0.6467 - val_loss: 1.3046 - val_acc: 0.6157\n",
      "Epoch 73/150\n",
      "50000/50000 [==============================] - 2s - loss: 1.2380 - acc: 0.6345 - val_loss: 1.2331 - val_acc: 0.6349\n",
      "Epoch 74/150\n",
      "50000/50000 [==============================] - 2s - loss: 1.2530 - acc: 0.6313 - val_loss: 1.2101 - val_acc: 0.6342\n",
      "Epoch 75/150\n",
      "50000/50000 [==============================] - 2s - loss: 1.1761 - acc: 0.6529 - val_loss: 1.2269 - val_acc: 0.6377\n",
      "Epoch 76/150\n",
      "50000/50000 [==============================] - 2s - loss: 1.1617 - acc: 0.6572 - val_loss: 1.2416 - val_acc: 0.6320\n",
      "Epoch 77/150\n",
      "50000/50000 [==============================] - 2s - loss: 1.1584 - acc: 0.6549 - val_loss: 1.2004 - val_acc: 0.6400\n",
      "Epoch 78/150\n",
      "50000/50000 [==============================] - 2s - loss: 1.1676 - acc: 0.6551 - val_loss: 1.2619 - val_acc: 0.6257\n",
      "Epoch 79/150\n",
      "50000/50000 [==============================] - 2s - loss: 1.2458 - acc: 0.6324 - val_loss: 1.2689 - val_acc: 0.6229\n",
      "Epoch 80/150\n",
      "50000/50000 [==============================] - 2s - loss: 1.2448 - acc: 0.6324 - val_loss: 1.2891 - val_acc: 0.6225\n",
      "Epoch 81/150\n",
      "50000/50000 [==============================] - 2s - loss: 1.2223 - acc: 0.6383 - val_loss: 1.2076 - val_acc: 0.6417\n",
      "Epoch 82/150\n",
      "50000/50000 [==============================] - 2s - loss: 1.2027 - acc: 0.6441 - val_loss: 1.3031 - val_acc: 0.6262\n",
      "Epoch 83/150\n",
      "50000/50000 [==============================] - 2s - loss: 1.2027 - acc: 0.6435 - val_loss: 1.2828 - val_acc: 0.6224\n",
      "Epoch 84/150\n",
      "50000/50000 [==============================] - 2s - loss: 1.1898 - acc: 0.6476 - val_loss: 1.2509 - val_acc: 0.6305\n",
      "Epoch 85/150\n",
      "50000/50000 [==============================] - 2s - loss: 1.2214 - acc: 0.6409 - val_loss: 1.3391 - val_acc: 0.6115\n",
      "Epoch 86/150\n",
      "50000/50000 [==============================] - 3s - loss: 1.2875 - acc: 0.6207 - val_loss: 1.3486 - val_acc: 0.6067\n",
      "Epoch 87/150\n",
      "50000/50000 [==============================] - 2s - loss: 1.2397 - acc: 0.6349 - val_loss: 1.3612 - val_acc: 0.6076\n",
      "Epoch 88/150\n",
      "50000/50000 [==============================] - 2s - loss: 1.2876 - acc: 0.6256 - val_loss: 1.2899 - val_acc: 0.6286\n",
      "Epoch 89/150\n",
      "50000/50000 [==============================] - 2s - loss: 1.1846 - acc: 0.6509 - val_loss: 1.2252 - val_acc: 0.6424\n",
      "Epoch 90/150\n",
      "50000/50000 [==============================] - 3s - loss: 1.2243 - acc: 0.6394 - val_loss: 1.2869 - val_acc: 0.6248\n",
      "Epoch 91/150\n",
      "50000/50000 [==============================] - 3s - loss: 1.3047 - acc: 0.6214 - val_loss: 1.4263 - val_acc: 0.5854\n",
      "Epoch 92/150\n",
      "50000/50000 [==============================] - 3s - loss: 1.2259 - acc: 0.6378 - val_loss: 1.2086 - val_acc: 0.6447\n",
      "Epoch 93/150\n",
      "50000/50000 [==============================] - 3s - loss: 1.1978 - acc: 0.6450 - val_loss: 1.2933 - val_acc: 0.6234\n",
      "Epoch 94/150\n",
      "50000/50000 [==============================] - 3s - loss: 1.2127 - acc: 0.6410 - val_loss: 1.2246 - val_acc: 0.6393\n",
      "Epoch 95/150\n",
      "50000/50000 [==============================] - 3s - loss: 1.2439 - acc: 0.6349 - val_loss: 1.2383 - val_acc: 0.6382\n",
      "Epoch 96/150\n",
      "50000/50000 [==============================] - 3s - loss: 1.2220 - acc: 0.6412 - val_loss: 1.2914 - val_acc: 0.6268\n",
      "Epoch 97/150\n",
      "50000/50000 [==============================] - 2s - loss: 1.1874 - acc: 0.6523 - val_loss: 1.2264 - val_acc: 0.6379\n",
      "Epoch 98/150\n",
      "50000/50000 [==============================] - 2s - loss: 1.1631 - acc: 0.6550 - val_loss: 1.1972 - val_acc: 0.6494\n",
      "Epoch 99/150\n",
      "50000/50000 [==============================] - 2s - loss: 1.1168 - acc: 0.6680 - val_loss: 1.2228 - val_acc: 0.6428\n",
      "Epoch 100/150\n",
      "50000/50000 [==============================] - 2s - loss: 1.2294 - acc: 0.6375 - val_loss: 1.2469 - val_acc: 0.6338\n",
      "Epoch 101/150\n",
      "50000/50000 [==============================] - 2s - loss: 1.1963 - acc: 0.6458 - val_loss: 1.2380 - val_acc: 0.6355\n",
      "Epoch 102/150\n",
      "50000/50000 [==============================] - 2s - loss: 1.1978 - acc: 0.6428 - val_loss: 1.2074 - val_acc: 0.6434\n",
      "Epoch 103/150\n",
      "50000/50000 [==============================] - 2s - loss: 1.1940 - acc: 0.6485 - val_loss: 1.2272 - val_acc: 0.6375\n",
      "Epoch 104/150\n",
      "50000/50000 [==============================] - 2s - loss: 1.1635 - acc: 0.6542 - val_loss: 1.2146 - val_acc: 0.6463\n",
      "Epoch 105/150\n",
      "50000/50000 [==============================] - 2s - loss: 1.2352 - acc: 0.6352 - val_loss: 1.4087 - val_acc: 0.5960\n",
      "Epoch 106/150\n",
      "50000/50000 [==============================] - 2s - loss: 1.2428 - acc: 0.6345 - val_loss: 1.3307 - val_acc: 0.6111\n",
      "Epoch 107/150\n",
      "50000/50000 [==============================] - 2s - loss: 1.2052 - acc: 0.6418 - val_loss: 1.4310 - val_acc: 0.5905\n",
      "Epoch 108/150\n",
      "50000/50000 [==============================] - 3s - loss: 1.2948 - acc: 0.6219 - val_loss: 1.3561 - val_acc: 0.6080\n",
      "Epoch 109/150\n",
      "50000/50000 [==============================] - 2s - loss: 1.2238 - acc: 0.6406 - val_loss: 1.2612 - val_acc: 0.6288\n",
      "Epoch 110/150\n",
      "50000/50000 [==============================] - 2s - loss: 1.1930 - acc: 0.6463 - val_loss: 1.2663 - val_acc: 0.6249\n",
      "Epoch 111/150\n",
      "50000/50000 [==============================] - 2s - loss: 1.1694 - acc: 0.6533 - val_loss: 1.2156 - val_acc: 0.6432\n",
      "Epoch 112/150\n",
      "50000/50000 [==============================] - 2s - loss: 1.2234 - acc: 0.6376 - val_loss: 1.2648 - val_acc: 0.6320\n",
      "Epoch 113/150\n",
      "50000/50000 [==============================] - 2s - loss: 1.2091 - acc: 0.6419 - val_loss: 1.2836 - val_acc: 0.6214\n",
      "Epoch 114/150\n",
      "50000/50000 [==============================] - 2s - loss: 1.2249 - acc: 0.6356 - val_loss: 1.2622 - val_acc: 0.6284\n",
      "Epoch 115/150\n",
      "50000/50000 [==============================] - 2s - loss: 1.2368 - acc: 0.6365 - val_loss: 1.2605 - val_acc: 0.6317\n",
      "Epoch 116/150\n",
      "50000/50000 [==============================] - 2s - loss: 1.2091 - acc: 0.6429 - val_loss: 1.2728 - val_acc: 0.6299\n",
      "Epoch 117/150\n",
      "50000/50000 [==============================] - 3s - loss: 1.1859 - acc: 0.6484 - val_loss: 1.3031 - val_acc: 0.6232\n",
      "Epoch 118/150\n",
      "50000/50000 [==============================] - 3s - loss: 1.1737 - acc: 0.6547 - val_loss: 1.2901 - val_acc: 0.6247\n",
      "Epoch 119/150\n",
      "50000/50000 [==============================] - 2s - loss: 1.1419 - acc: 0.6587 - val_loss: 1.1957 - val_acc: 0.6451\n",
      "Epoch 120/150\n",
      "50000/50000 [==============================] - 2s - loss: 1.1324 - acc: 0.6615 - val_loss: 1.2140 - val_acc: 0.6457\n",
      "Epoch 121/150\n",
      "50000/50000 [==============================] - 2s - loss: 1.1581 - acc: 0.6573 - val_loss: 1.1804 - val_acc: 0.6501\n",
      "Epoch 122/150\n",
      "50000/50000 [==============================] - 2s - loss: 1.1625 - acc: 0.6572 - val_loss: 1.2186 - val_acc: 0.6444\n",
      "Epoch 123/150\n",
      "50000/50000 [==============================] - 2s - loss: 1.1518 - acc: 0.6596 - val_loss: 1.1996 - val_acc: 0.6487\n",
      "Epoch 124/150\n",
      "50000/50000 [==============================] - 2s - loss: 1.1801 - acc: 0.6499 - val_loss: 1.2774 - val_acc: 0.6271\n",
      "Epoch 125/150\n",
      "50000/50000 [==============================] - 2s - loss: 1.1634 - acc: 0.6553 - val_loss: 1.1744 - val_acc: 0.6546\n",
      "Epoch 126/150\n",
      "50000/50000 [==============================] - 2s - loss: 1.1196 - acc: 0.6659 - val_loss: 1.2096 - val_acc: 0.6421\n",
      "Epoch 127/150\n",
      "50000/50000 [==============================] - 2s - loss: 1.1228 - acc: 0.6619 - val_loss: 1.2077 - val_acc: 0.6462\n",
      "Epoch 128/150\n",
      "50000/50000 [==============================] - 2s - loss: 1.1193 - acc: 0.6649 - val_loss: 1.1699 - val_acc: 0.6527\n",
      "Epoch 129/150\n",
      "50000/50000 [==============================] - 2s - loss: 1.1047 - acc: 0.6709 - val_loss: 1.1743 - val_acc: 0.6500\n",
      "Epoch 130/150\n",
      "50000/50000 [==============================] - 2s - loss: 1.1296 - acc: 0.6616 - val_loss: 1.2439 - val_acc: 0.6331\n",
      "Epoch 131/150\n",
      "50000/50000 [==============================] - 2s - loss: 1.1407 - acc: 0.6604 - val_loss: 1.3410 - val_acc: 0.6054\n",
      "Epoch 132/150\n",
      "50000/50000 [==============================] - 2s - loss: 1.2319 - acc: 0.6384 - val_loss: 1.2681 - val_acc: 0.6355\n",
      "Epoch 133/150\n",
      "50000/50000 [==============================] - 2s - loss: 1.1643 - acc: 0.6562 - val_loss: 1.3204 - val_acc: 0.6200\n",
      "Epoch 134/150\n",
      "50000/50000 [==============================] - 2s - loss: 1.1763 - acc: 0.6540 - val_loss: 1.3134 - val_acc: 0.6203\n",
      "Epoch 135/150\n",
      "50000/50000 [==============================] - 2s - loss: 1.1785 - acc: 0.6538 - val_loss: 1.4315 - val_acc: 0.5911\n",
      "Epoch 136/150\n",
      "50000/50000 [==============================] - 2s - loss: 1.2178 - acc: 0.6443 - val_loss: 1.2449 - val_acc: 0.6346\n",
      "Epoch 137/150\n",
      "50000/50000 [==============================] - 2s - loss: 1.1562 - acc: 0.6591 - val_loss: 1.2349 - val_acc: 0.6392\n",
      "Epoch 138/150\n",
      "50000/50000 [==============================] - 2s - loss: 1.1427 - acc: 0.6631 - val_loss: 1.2195 - val_acc: 0.6502\n",
      "Epoch 139/150\n",
      "50000/50000 [==============================] - 2s - loss: 1.1487 - acc: 0.6610 - val_loss: 1.2938 - val_acc: 0.6210\n",
      "Epoch 140/150\n",
      "50000/50000 [==============================] - 2s - loss: 1.1941 - acc: 0.6483 - val_loss: 1.1975 - val_acc: 0.6569\n",
      "Epoch 141/150\n",
      "50000/50000 [==============================] - 2s - loss: 1.1403 - acc: 0.6641 - val_loss: 1.1895 - val_acc: 0.6495\n",
      "Epoch 142/150\n",
      "50000/50000 [==============================] - 2s - loss: 1.1079 - acc: 0.6682 - val_loss: 1.1939 - val_acc: 0.6559\n",
      "Epoch 143/150\n",
      "50000/50000 [==============================] - 2s - loss: 1.1642 - acc: 0.6564 - val_loss: 1.1248 - val_acc: 0.6655\n",
      "Epoch 144/150\n",
      "50000/50000 [==============================] - 2s - loss: 1.0883 - acc: 0.6792 - val_loss: 1.2685 - val_acc: 0.6306\n",
      "Epoch 145/150\n",
      "50000/50000 [==============================] - 2s - loss: 1.1680 - acc: 0.6530 - val_loss: 1.2496 - val_acc: 0.6321\n",
      "Epoch 146/150\n",
      "50000/50000 [==============================] - 2s - loss: 1.1606 - acc: 0.6532 - val_loss: 1.2037 - val_acc: 0.6478\n",
      "Epoch 147/150\n",
      "50000/50000 [==============================] - 2s - loss: 1.1299 - acc: 0.6659 - val_loss: 1.1805 - val_acc: 0.6477\n",
      "Epoch 148/150\n",
      "50000/50000 [==============================] - 2s - loss: 1.1653 - acc: 0.6549 - val_loss: 1.2451 - val_acc: 0.6367\n",
      "Epoch 149/150\n",
      "50000/50000 [==============================] - 2s - loss: 1.1584 - acc: 0.6577 - val_loss: 1.1999 - val_acc: 0.6510\n",
      "Epoch 150/150\n",
      "50000/50000 [==============================] - 2s - loss: 1.1249 - acc: 0.6684 - val_loss: 1.2529 - val_acc: 0.6417\n"
     ]
    },
    {
     "data": {
      "text/plain": [
       "<keras.callbacks.History at 0x7f2bc5512790>"
      ]
     },
     "execution_count": 15,
     "metadata": {},
     "output_type": "execute_result"
    }
   ],
   "source": [
    "model.fit(train_set_x, Y_train, batch_size=128, nb_epoch=150,\n",
    "          show_accuracy=True, verbose=1, validation_data=(test_set_x, Y_test))"
   ]
  },
  {
   "cell_type": "code",
   "execution_count": null,
   "metadata": {
    "collapsed": false
   },
   "outputs": [],
   "source": [
    "model.evaluate(test_set_x, Y_test, show_accuracy=True, verbose=0)"
   ]
  },
  {
   "cell_type": "code",
   "execution_count": null,
   "metadata": {
    "collapsed": false
   },
   "outputs": [],
   "source": [
    "print score"
   ]
  }
 ],
 "metadata": {
  "kernelspec": {
   "display_name": "Python 2",
   "language": "python",
   "name": "python2"
  },
  "language_info": {
   "codemirror_mode": {
    "name": "ipython",
    "version": 2
   },
   "file_extension": ".py",
   "mimetype": "text/x-python",
   "name": "python",
   "nbconvert_exporter": "python",
   "pygments_lexer": "ipython2",
   "version": "2.7.6"
  }
 },
 "nbformat": 4,
 "nbformat_minor": 0
}
